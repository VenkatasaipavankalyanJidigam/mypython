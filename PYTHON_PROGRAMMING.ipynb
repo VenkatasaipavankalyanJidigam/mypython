{
  "nbformat": 4,
  "nbformat_minor": 0,
  "metadata": {
    "colab": {
      "provenance": []
    },
    "kernelspec": {
      "name": "python3",
      "display_name": "Python 3"
    },
    "language_info": {
      "name": "python"
    }
  },
  "cells": [
    {
      "cell_type": "markdown",
      "source": [
        "#### Tasks\n",
        "\n",
        "**Task 1**: Prime Numbers\n",
        "Write a Python program that checks whether a given number is prime or not. A prime number is a natural number greater than 1 that has no positive divisors other than 1 and itself.\n",
        "\n",
        "**Task 2**: Product of Random Numbers\n",
        "Develop a Python program that generates two random numbers and asks the user to enter the product of these numbers. The program should then check if the user's answer is correct and display an appropriate message.\n",
        "\n",
        "**Task 3**: Squares of Even/Odd Numbers\n",
        "Create a Python script that prints the squares of all even or odd numbers within the range of 100 to 200. Choose either even or odd numbers and document your choice in the code.\n",
        "\n",
        "**Task 4**: Word counter\n",
        "write a program to count the number of words in a given text.\n",
        "example:\n",
        "input_text = \"This is a sample text. This text will be used to demonstrate the word counter.\"\n",
        "Expected output:\n",
        "'This': 2\n",
        "'is': 1\n",
        "'a': 1\n",
        "'sample': 1\n",
        "'text.': 1\n",
        "\n",
        "**Task 5**: Check for Palindrome\n",
        "Write a Python function called is_palindrome that takes a string as input and returns True if the string is a palindrome, and False otherwise. A palindrome is a word, phrase, number, or other sequence of characters that reads the same forward and backward, ignoring spaces, punctuation, and capitalization.\n",
        "Example:\n",
        "Input: \"racecar\"\n",
        "Expected Output: True\n"
      ],
      "metadata": {
        "id": "9_zSY4BcWNCj"
      }
    },
    {
      "cell_type": "markdown",
      "source": [
        "###TASK 1"
      ],
      "metadata": {
        "id": "zbEzKZ6uW6mk"
      }
    },
    {
      "cell_type": "code",
      "execution_count": 5,
      "metadata": {
        "colab": {
          "base_uri": "https://localhost:8080/"
        },
        "id": "krZmIVkdWD4Q",
        "outputId": "4421df40-ce1c-423b-f834-b406d5ad8411"
      },
      "outputs": [
        {
          "output_type": "stream",
          "name": "stdout",
          "text": [
            "Enter a number: 21\n",
            "21 is not a prime number\n"
          ]
        }
      ],
      "source": [
        "# Checking prime number or not\n",
        "n = int(input(\"Enter a number: \"))\n",
        "if n > 1:\n",
        "    for i in range(2, n):\n",
        "        if (n % i) == 0:\n",
        "            print(n, \"is not a prime number\")\n",
        "            break\n",
        "    else:\n",
        "        print(n, \"is a prime number\")\n",
        "else:\n",
        "    print(n, \"is not a prime number\")"
      ]
    },
    {
      "cell_type": "markdown",
      "source": [
        "###TASK 2"
      ],
      "metadata": {
        "id": "xL2FNFncXyr3"
      }
    },
    {
      "cell_type": "code",
      "source": [
        "# Generating the random numbers and asking user to enter the product of those numbers and check weather it is correct or not\n",
        "import random\n",
        "num1 = random.randint(1, 100)\n",
        "num2 = random.randint(1, 100)\n",
        "userProduct = input(\"What is the product of \" + str(num1) + \" and \" + str(num2) + \"? \")\n",
        "product = int(num1) * int(num2)\n",
        "if userProduct == num1 * num2:\n",
        "    print(\"Correct!\")\n",
        "else:\n",
        "    print(\"Incorrect.\")\n",
        "    print(\"The product of\", num1, \"and\", num2, \"is\", product)"
      ],
      "metadata": {
        "colab": {
          "base_uri": "https://localhost:8080/"
        },
        "id": "ZWr5XTrDXQZG",
        "outputId": "278bc1be-ba64-499b-dab8-b0bd416b1d1f"
      },
      "execution_count": 8,
      "outputs": [
        {
          "output_type": "stream",
          "name": "stdout",
          "text": [
            "What is the product of 79 and 85? 6710\n",
            "Incorrect.\n",
            "The product of 79 and 85 is 6715\n"
          ]
        }
      ]
    },
    {
      "cell_type": "markdown",
      "source": [
        "###TASK 3"
      ],
      "metadata": {
        "id": "48MaW92BZVA1"
      }
    },
    {
      "cell_type": "code",
      "source": [
        "#Create a Python script that prints the squares of all even or odd numbers within the range of 100 to 200\n",
        "\n",
        "##For Even Numbers\n",
        "for i in range(100, 201):\n",
        "    if i % 2 == 0:\n",
        "        print(i**2)"
      ],
      "metadata": {
        "colab": {
          "base_uri": "https://localhost:8080/"
        },
        "id": "EryQUwWlYoC5",
        "outputId": "d0dd1b4e-84bc-417a-dfbb-89a4baa9146a"
      },
      "execution_count": 10,
      "outputs": [
        {
          "output_type": "stream",
          "name": "stdout",
          "text": [
            "10000\n",
            "10404\n",
            "10816\n",
            "11236\n",
            "11664\n",
            "12100\n",
            "12544\n",
            "12996\n",
            "13456\n",
            "13924\n",
            "14400\n",
            "14884\n",
            "15376\n",
            "15876\n",
            "16384\n",
            "16900\n",
            "17424\n",
            "17956\n",
            "18496\n",
            "19044\n",
            "19600\n",
            "20164\n",
            "20736\n",
            "21316\n",
            "21904\n",
            "22500\n",
            "23104\n",
            "23716\n",
            "24336\n",
            "24964\n",
            "25600\n",
            "26244\n",
            "26896\n",
            "27556\n",
            "28224\n",
            "28900\n",
            "29584\n",
            "30276\n",
            "30976\n",
            "31684\n",
            "32400\n",
            "33124\n",
            "33856\n",
            "34596\n",
            "35344\n",
            "36100\n",
            "36864\n",
            "37636\n",
            "38416\n",
            "39204\n",
            "40000\n"
          ]
        }
      ]
    },
    {
      "cell_type": "code",
      "source": [
        "# Create a Python script that prints the squares of all even or odd numbers within the range of 100 to 200\n",
        "#For odd numbers\n",
        "for i in range(100, 200):\n",
        "    if i % 2 != 0:\n",
        "        print(i**2)"
      ],
      "metadata": {
        "colab": {
          "base_uri": "https://localhost:8080/"
        },
        "id": "y2yUQ2FrbVxE",
        "outputId": "75ab7ca1-d6b6-4438-fdaa-5b89f31b5296"
      },
      "execution_count": 12,
      "outputs": [
        {
          "output_type": "stream",
          "name": "stdout",
          "text": [
            "10201\n",
            "10609\n",
            "11025\n",
            "11449\n",
            "11881\n",
            "12321\n",
            "12769\n",
            "13225\n",
            "13689\n",
            "14161\n",
            "14641\n",
            "15129\n",
            "15625\n",
            "16129\n",
            "16641\n",
            "17161\n",
            "17689\n",
            "18225\n",
            "18769\n",
            "19321\n",
            "19881\n",
            "20449\n",
            "21025\n",
            "21609\n",
            "22201\n",
            "22801\n",
            "23409\n",
            "24025\n",
            "24649\n",
            "25281\n",
            "25921\n",
            "26569\n",
            "27225\n",
            "27889\n",
            "28561\n",
            "29241\n",
            "29929\n",
            "30625\n",
            "31329\n",
            "32041\n",
            "32761\n",
            "33489\n",
            "34225\n",
            "34969\n",
            "35721\n",
            "36481\n",
            "37249\n",
            "38025\n",
            "38809\n",
            "39601\n"
          ]
        }
      ]
    },
    {
      "cell_type": "markdown",
      "source": [
        "###TASK 4"
      ],
      "metadata": {
        "id": "Zc6ltWB7bu6O"
      }
    },
    {
      "cell_type": "code",
      "source": [
        "# program to count the number of words in a given text\n",
        "input_text = \"This is a sample text. This text will be used to demonstrate the word counter.\"\n",
        "words = input_text.split()\n",
        "word_count = {}\n",
        "for word in words:\n",
        "    if word in word_count:\n",
        "        word_count[word] += 1\n",
        "    else:\n",
        "        word_count[word] = 1\n",
        "print(word_count)"
      ],
      "metadata": {
        "colab": {
          "base_uri": "https://localhost:8080/"
        },
        "id": "KH8_sxqbbo8Q",
        "outputId": "421c5da1-95cf-483a-ab0b-92039211116d"
      },
      "execution_count": 14,
      "outputs": [
        {
          "output_type": "stream",
          "name": "stdout",
          "text": [
            "{'This': 2, 'is': 1, 'a': 1, 'sample': 1, 'text.': 1, 'text': 1, 'will': 1, 'be': 1, 'used': 1, 'to': 1, 'demonstrate': 1, 'the': 1, 'word': 1, 'counter.': 1}\n"
          ]
        }
      ]
    },
    {
      "cell_type": "markdown",
      "source": [
        "###TASK 5"
      ],
      "metadata": {
        "id": "rh1RWp2wh7zM"
      }
    },
    {
      "cell_type": "code",
      "source": [
        "#Write a Python function called is_palindrome that takes a string as input and returns True if the string is a palindrome, and False otherwise.\n",
        "def is_palindrome(s):\n",
        "    s = s.lower()\n",
        "    s = ''.join(e for e in s if e.isalnum())\n",
        "    return s == s[::-1]\n",
        "is_palindrome(\"racecar\")"
      ],
      "metadata": {
        "colab": {
          "base_uri": "https://localhost:8080/"
        },
        "id": "fpBANbWqhyPw",
        "outputId": "87035541-a02d-426f-ff87-12327b28a243"
      },
      "execution_count": 15,
      "outputs": [
        {
          "output_type": "execute_result",
          "data": {
            "text/plain": [
              "True"
            ]
          },
          "metadata": {},
          "execution_count": 15
        }
      ]
    },
    {
      "cell_type": "code",
      "source": [],
      "metadata": {
        "id": "y2PTTW_2iG2M"
      },
      "execution_count": null,
      "outputs": []
    }
  ]
}